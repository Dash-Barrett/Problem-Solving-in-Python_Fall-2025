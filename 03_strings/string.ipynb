{
 "cells": [
  {
   "cell_type": "code",
   "execution_count": 28,
   "id": "9c0032e9",
   "metadata": {},
   "outputs": [
    {
     "name": "stdout",
     "output_type": "stream",
     "text": [
      "14\n"
     ]
    }
   ],
   "source": [
    "#len fucntion - returns number of elements in the collection/string\n",
    "test = \"Hello, Python!\"\n",
    "length = len(test)\n",
    "print(length)"
   ]
  },
  {
   "cell_type": "code",
   "execution_count": 29,
   "id": "c0b0e90e",
   "metadata": {},
   "outputs": [
    {
     "name": "stdout",
     "output_type": "stream",
     "text": [
      "K\n",
      "n\n",
      "n\n",
      "t\n"
     ]
    }
   ],
   "source": [
    "# Access string elements\n",
    "name = \"Konstantin\"\n",
    "print(name[0])\n",
    "print(name[2])\n",
    "\n",
    "# Use negative indices\n",
    "print(name[-1]) #The last character in the string\n",
    "print(name[-3])"
   ]
  },
  {
   "cell_type": "code",
   "execution_count": 30,
   "id": "484022ff",
   "metadata": {},
   "outputs": [
    {
     "name": "stdout",
     "output_type": "stream",
     "text": [
      "Python\n",
      "Pyt\n",
      "thon\n",
      "thon\n"
     ]
    }
   ],
   "source": [
    "# string slicing\n",
    "# specify the start and end of the slice\n",
    "language = \"Pytnon\"\n",
    "language = language.replace(\"n\", \"h\", 1)\n",
    "print(language)\n",
    "print(language[0:3])\n",
    "\n",
    "# what is the output\n",
    "print(language[2:len(language)])\n",
    "#or\n",
    "print(language[2:])"
   ]
  },
  {
   "cell_type": "code",
   "execution_count": 31,
   "id": "5f86c470",
   "metadata": {},
   "outputs": [
    {
     "name": "stdout",
     "output_type": "stream",
     "text": [
      "hon\n",
      "Pto\n",
      "nhy\n",
      "nohtyP\n"
     ]
    }
   ],
   "source": [
    "# you can use negative indices\n",
    "language = \"Python\"\n",
    "\n",
    "print(language[-3:])\n",
    "\n",
    "#specify the step \n",
    "print(language[::2])\n",
    "print(language[::-2])\n",
    "\n",
    "#reverse a string\n",
    "print(language[::-1])"
   ]
  },
  {
   "cell_type": "code",
   "execution_count": 37,
   "id": "c1135be8",
   "metadata": {},
   "outputs": [
    {
     "name": "stdout",
     "output_type": "stream",
     "text": [
      "56789\n",
      "12389\n"
     ]
    }
   ],
   "source": [
    "text = \"123456789\"\n",
    "# print the second half of the text\n",
    "print(text[len(text)// 2:])\n",
    "\n",
    "#print first 3 characters + last two characters\n",
    "print(text[:3] + text[-2:])"
   ]
  },
  {
   "cell_type": "code",
   "execution_count": 44,
   "id": "6163a809",
   "metadata": {},
   "outputs": [
    {
     "name": "stdout",
     "output_type": "stream",
     "text": [
      "Toyota\n",
      "BMW\n",
      "AUDI\n",
      "Volkswagen\n",
      "Nissan\n"
     ]
    }
   ],
   "source": [
    "#split\n",
    "\n",
    "makes = \"toyota, bmw, audi, volkswagen, nissan\"\n",
    "\n",
    "car_makes = makes.split(\",\") # car_makes is a list of strings\n",
    "#iterate through the list\n",
    "\n",
    "for make in car_makes:\n",
    "    make = make.lstrip()\n",
    "\n",
    "    if make == \"bmw\" or make == \"audi\":\n",
    "        print(make.upper())\n",
    "    else:\n",
    "        print(make.title())"
   ]
  },
  {
   "cell_type": "code",
   "execution_count": 45,
   "id": "f1f5fb61",
   "metadata": {},
   "outputs": [
    {
     "name": "stdout",
     "output_type": "stream",
     "text": [
      "Toyota\n",
      "BMW\n",
      "AUDI\n",
      "Volkswagen\n",
      "Nissan\n"
     ]
    }
   ],
   "source": [
    "#split\n",
    "\n",
    "makes = \"toyota, bmw, audi, volkswagen, nissan\"\n",
    "\n",
    "car_makes = makes.split(\",\") # car_makes is a list of strings\n",
    "#iterate through the list\n",
    "\n",
    "for make in car_makes:\n",
    "    make = make.lstrip()\n",
    "\n",
    "    if make in [\"bmw\", \"audi\"]:\n",
    "        print(make.upper())\n",
    "    else:\n",
    "        print(make.title())"
   ]
  },
  {
   "cell_type": "code",
   "execution_count": 49,
   "id": "810a2c15",
   "metadata": {},
   "outputs": [
    {
     "name": "stdout",
     "output_type": "stream",
     "text": [
      "1\n",
      "3\n",
      "5\n",
      "7\n",
      "9\n",
      "\n",
      "1\n",
      "4\n",
      "9\n",
      "16\n",
      "25\n",
      "36\n",
      "49\n",
      "64\n",
      "81\n",
      "100\n",
      "121\n",
      "144\n",
      "169\n",
      "196\n",
      "225\n",
      "256\n",
      "289\n",
      "324\n",
      "361\n",
      "400\n"
     ]
    }
   ],
   "source": [
    "# for loop\n",
    "# range BIF\n",
    "for i in range(1, 10, 2):\n",
    "    print(i)\n",
    "\n",
    "\n",
    "# print all squares from 1 to 20\n",
    "print()\n",
    "\n",
    "for i in range(1, 21):\n",
    "    print(i**2)"
   ]
  }
 ],
 "metadata": {
  "kernelspec": {
   "display_name": "Python 3",
   "language": "python",
   "name": "python3"
  },
  "language_info": {
   "codemirror_mode": {
    "name": "ipython",
    "version": 3
   },
   "file_extension": ".py",
   "mimetype": "text/x-python",
   "name": "python",
   "nbconvert_exporter": "python",
   "pygments_lexer": "ipython3",
   "version": "3.12.1"
  }
 },
 "nbformat": 4,
 "nbformat_minor": 5
}
