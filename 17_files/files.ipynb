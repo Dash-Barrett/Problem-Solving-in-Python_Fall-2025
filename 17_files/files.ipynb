{
 "cells": [
  {
   "cell_type": "code",
   "execution_count": 20,
   "id": "af96d7f8",
   "metadata": {},
   "outputs": [
    {
     "name": "stdout",
     "output_type": "stream",
     "text": [
      "/workspaces/Problem-Solving-in-Python_Fall-2025/17_files/1.txt\n",
      "1.txt\n",
      "/workspaces/Problem-Solving-in-Python_Fall-2025/17_files\n",
      "/workspaces/Problem-Solving-in-Python_Fall-2025\n",
      ".txt\n",
      "Exists: True\n",
      "Is File: True\n",
      "Is Directory: False\n",
      "4.txt\n",
      "files.txt\n",
      "3.txt\n",
      "files.ipynb\n",
      "1.txt\n",
      "5.txt\n",
      "2.txt\n"
     ]
    }
   ],
   "source": [
    "from pathlib import Path\n",
    "# Create text files in the current directory\n",
    "# 1.txt 2.txt 3.txt 4.txt 5.txt\n",
    "\n",
    "for i in range(1, 6):\n",
    "    with open(f\"{i}.txt\", \"w\") as file:\n",
    "        file.write(f\"Writing into {file.name} file\")\n",
    "\n",
    "# Working with file paths\n",
    "cur = Path(\"1.txt\")\n",
    "\n",
    "# Show some Path attributes\n",
    "print(cur.absolute()) # Absolute Path\n",
    "print(cur.name) # File Name\n",
    "print(cur.absolute().parent) # parent of the file (the directory file is in)\n",
    "print(cur.absolute().parent.parent) # grandparent of the file\n",
    "print(cur.suffix) # File Extension\n",
    "\n",
    "# Methods\n",
    "print(f\"Exists: {cur.exists()}\") # Checks if file existss\n",
    "print(f\"Is File: {cur.is_file()}\") # Checks if its even a file\n",
    "print(f\"Is Directory: {cur.is_dir()}\") # Checks if the path is an existing directory\n",
    "\n",
    "# Create Directories\n",
    "dir_name1 = \"dir1\"\n",
    "dir_name2 = \"dir2\"\n",
    "dir_name3 = \"dir3\"\n",
    "\n",
    "dirs = [dir_name1, dir_name2, dir_name3]\n",
    "for dir in dirs:\n",
    "    new_path = Path(cur.absolute().parent / dir)\n",
    "    if not new_path.exists():\n",
    "        new_path.mkdir()\n",
    "\n",
    "# Create a list of files in the current Directory\n",
    "tempList = []\n",
    "for file in cur.parent.iterdir():\n",
    "    if file.is_file() == True:\n",
    "        tempList.append(file.name)\n",
    "        print(f\"{file.name}\")\n",
    "\n",
    "with open(f\"files.txt\", \"w\") as file:\n",
    "    file.write(f\"{tempList}\")\n"
   ]
  }
 ],
 "metadata": {
  "kernelspec": {
   "display_name": "Python 3",
   "language": "python",
   "name": "python3"
  },
  "language_info": {
   "codemirror_mode": {
    "name": "ipython",
    "version": 3
   },
   "file_extension": ".py",
   "mimetype": "text/x-python",
   "name": "python",
   "nbconvert_exporter": "python",
   "pygments_lexer": "ipython3",
   "version": "3.12.1"
  }
 },
 "nbformat": 4,
 "nbformat_minor": 5
}
