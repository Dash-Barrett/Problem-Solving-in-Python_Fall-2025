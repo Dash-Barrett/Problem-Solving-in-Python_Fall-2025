{
 "cells": [
  {
   "cell_type": "code",
   "execution_count": 5,
   "id": "5a90d8bb",
   "metadata": {},
   "outputs": [
    {
     "ename": "TypeError",
     "evalue": "unsupported operand type(s) for +: 'int' and 'str'",
     "output_type": "error",
     "traceback": [
      "\u001b[31m---------------------------------------------------------------------------\u001b[39m",
      "\u001b[31mTypeError\u001b[39m                                 Traceback (most recent call last)",
      "\u001b[36mCell\u001b[39m\u001b[36m \u001b[39m\u001b[32mIn[5]\u001b[39m\u001b[32m, line 2\u001b[39m\n\u001b[32m      1\u001b[39m a = \u001b[32m1\u001b[39m\n\u001b[32m----> \u001b[39m\u001b[32m2\u001b[39m \u001b[43ma\u001b[49m\u001b[43m \u001b[49m\u001b[43m+\u001b[49m\u001b[43m \u001b[49m\u001b[33;43m\"\u001b[39;49m\u001b[33;43ma\u001b[39;49m\u001b[33;43m\"\u001b[39;49m\n\u001b[32m      4\u001b[39m \u001b[38;5;28mprint\u001b[39m(\u001b[33m\"\u001b[39m\u001b[33mVery Important Code\u001b[39m\u001b[33m\"\u001b[39m)\n",
      "\u001b[31mTypeError\u001b[39m: unsupported operand type(s) for +: 'int' and 'str'"
     ]
    }
   ],
   "source": [
    "a = 1\n",
    "a + \"a\"\n",
    "\n",
    "print(\"Very Important Code\")\n",
    "\n",
    "\n"
   ]
  },
  {
   "cell_type": "code",
   "execution_count": 7,
   "id": "7c134c0a",
   "metadata": {},
   "outputs": [
    {
     "name": "stdout",
     "output_type": "stream",
     "text": [
      "Cannot add a string and an int\n",
      "Very Important Code\n"
     ]
    }
   ],
   "source": [
    "# try exception block\n",
    "try: \n",
    "    a = 1\n",
    "    a + \"a\"\n",
    "except TypeError as e:\n",
    "    print(\"Cannot add a string and an int\")\n",
    "print(\"Very Important Code\")"
   ]
  },
  {
   "cell_type": "code",
   "execution_count": 12,
   "id": "f22d44ac",
   "metadata": {},
   "outputs": [
    {
     "name": "stdout",
     "output_type": "stream",
     "text": [
      "Error: list index out of range\n"
     ]
    }
   ],
   "source": [
    "def f():\n",
    "    l = [1, 2, 3]\n",
    "    print(l[5])\n",
    "\n",
    "try:\n",
    "    f()\n",
    "except IndexError as e:\n",
    "    print(f\"Error: {e}\")"
   ]
  },
  {
   "cell_type": "code",
   "execution_count": null,
   "id": "a6e2d93b",
   "metadata": {},
   "outputs": [
    {
     "name": "stdout",
     "output_type": "stream",
     "text": [
      "Both arguments must be strings\n",
      "123345\n",
      "123345\n"
     ]
    }
   ],
   "source": [
    "# We can raise exceptions\n",
    "def add_strings(s1, s2):\n",
    "    if not (isinstance(s1, str) and isinstance(s2, str)):\n",
    "        raise TypeError(\"Both arguments must be strings\")\n",
    "    return s1 + s2\n",
    "\n",
    "try:\n",
    "    sum = add_strings(\"123\", 345)\n",
    "    print(sum) # Will never be executed if exception is hit\n",
    "except TypeError as e:\n",
    "    print(e)\n",
    "\n",
    "try:\n",
    "    sum = add_strings(\"123\", \"345\")\n",
    "    print(sum)\n",
    "except TypeError as e:\n",
    "    print(e)\n",
    "else:\n",
    "    print(sum) # Will be triggered if no exception is hit"
   ]
  },
  {
   "cell_type": "code",
   "execution_count": 26,
   "id": "3c0bd89c",
   "metadata": {},
   "outputs": [
    {
     "name": "stdout",
     "output_type": "stream",
     "text": [
      "Error: Temperature must be a number\n"
     ]
    }
   ],
   "source": [
    "class Temperature:\n",
    "    def __init__(self, celsius):\n",
    "        if not isinstance(celsius, (int, float)):\n",
    "            raise TypeError(\"Temperature must be a number\")\n",
    "        if celsius < -273:\n",
    "            raise ValueError(\"Temperature cannot be below absolute zero (-273)\")\n",
    "        self.celsius = celsius\n",
    "    #hi\n",
    "\n",
    "try:\n",
    "    temp = Temperature(\"-300\")\n",
    "except ValueError as e:\n",
    "    temp = Temperature(0)\n",
    "    print(e)\n",
    "except TypeError as y:\n",
    "    temp = Temperature(10)\n",
    "    print(f\"Error: {y}\")"
   ]
  },
  {
   "cell_type": "code",
   "execution_count": null,
   "id": "d19f7b7f",
   "metadata": {},
   "outputs": [
    {
     "name": "stdout",
     "output_type": "stream",
     "text": [
      "Temperature cannot be below absolute zero (-273)\n",
      "Temperature must be a number\n"
     ]
    }
   ],
   "source": [
    "class Temperature:\n",
    "    def __init__(self, celsius):\n",
    "        if not isinstance(celsius, (int, float)):\n",
    "            raise TypeError(\"Temperature must be a number\")\n",
    "        if celsius < -273:\n",
    "            raise ValueError(\"Temperature cannot be below absolute zero (-273)\")\n",
    "        self.celsius = celsius\n",
    "    #hi\n",
    "\n",
    "try:\n",
    "    temp = Temperature(-30)\n",
    "except (ValueError, TypeError) as e: #Handling Multiple Errors\n",
    "    temp = Temperature(0)\n",
    "    print(e)\n",
    "try:\n",
    "    temp = Temperature(-300)\n",
    "except (ValueError, TypeError) as e:\n",
    "    temp = Temperature(0)\n",
    "    print(e)\n",
    "try:\n",
    "    temp = Temperature(\"30\")\n",
    "except (ValueError, TypeError) as e:\n",
    "    temp = Temperature(0)\n",
    "    print(e)"
   ]
  },
  {
   "cell_type": "code",
   "execution_count": 33,
   "id": "946fc741",
   "metadata": {},
   "outputs": [
    {
     "name": "stdout",
     "output_type": "stream",
     "text": [
      "Min temp must be lower than max temp\n"
     ]
    }
   ],
   "source": [
    "# Create our custom type exception\n",
    "class TemperatureRangeError(ValueError):\n",
    "    \"\"\"Raised when temperature range is invalid\"\"\"\n",
    "    pass\n",
    "\n",
    "class Temperature:\n",
    "    def __init__(self, celsius):\n",
    "        if not isinstance(celsius, (int, float)):\n",
    "            raise TypeError(\"Temperature must be a number\")\n",
    "        if celsius < -273:\n",
    "            raise ValueError(\"Temperature cannot be below absolute zero (-273)\")\n",
    "        self.celsius = celsius\n",
    "        self.min_temp = 0\n",
    "        self.max_temp = 0\n",
    "    def set_range(self, min_temp, max_temp):\n",
    "        if not (isinstance(min_temp, Temperature) and isinstance(max_temp, Temperature)):\n",
    "            raise TypeError(\"Min temp and max temp should be numbers\")\n",
    "        elif max_temp.celsius < min_temp.celsius:\n",
    "            raise TemperatureRangeError(\"Min temp must be lower than max temp\")\n",
    "        self.min_temp = min_temp.celsius\n",
    "        self.max_temp = max_temp.celsius\n",
    "\n",
    "try:\n",
    "    temp = Temperature(-30)\n",
    "    temp.set_range(Temperature(14), Temperature(10))\n",
    "except (ValueError, TypeError, TemperatureRangeError) as e: #Handling Multiple Errors\n",
    "    temp = Temperature(0)\n",
    "    print(e)"
   ]
  }
 ],
 "metadata": {
  "kernelspec": {
   "display_name": "Python 3",
   "language": "python",
   "name": "python3"
  },
  "language_info": {
   "codemirror_mode": {
    "name": "ipython",
    "version": 3
   },
   "file_extension": ".py",
   "mimetype": "text/x-python",
   "name": "python",
   "nbconvert_exporter": "python",
   "pygments_lexer": "ipython3",
   "version": "3.12.1"
  }
 },
 "nbformat": 4,
 "nbformat_minor": 5
}
