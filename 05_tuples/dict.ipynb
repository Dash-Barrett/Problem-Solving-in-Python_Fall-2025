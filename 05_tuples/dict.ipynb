{
 "cells": [
  {
   "cell_type": "code",
   "execution_count": 2,
   "id": "7c969101",
   "metadata": {},
   "outputs": [
    {
     "name": "stdout",
     "output_type": "stream",
     "text": [
      "{'name': 'Jack', 'age': 25, 'city': 'Lakeland'}\n",
      "{'name': 'Anna', 'age': 19, 'city': 'Orlando'}\n"
     ]
    }
   ],
   "source": [
    "# Create a dictionary\n",
    "my_dict = {\"name\": \"Jack\", \"age\": 25, \"city\": \"Lakeland\"}\n",
    "\n",
    "my_dict2 = dict(name = \"Anna\", age = 19, city = \"Orlando\")\n",
    "\n",
    "print(my_dict)\n",
    "print(my_dict2)"
   ]
  },
  {
   "cell_type": "code",
   "execution_count": 3,
   "id": "5f6236ea",
   "metadata": {},
   "outputs": [
    {
     "name": "stdout",
     "output_type": "stream",
     "text": [
      "Jack\n",
      "{'name': 'Jack', 'age': 20, 'city': 'Lakeland', 'email': 'jack@floridapoly.edu'}\n"
     ]
    }
   ],
   "source": [
    "my_dict = {\"name\": \"Jack\", \"age\": 25, \"city\": \"Lakeland\"}\n",
    "# Access a value\n",
    "\n",
    "print(my_dict[\"name\"])\n",
    "\n",
    "# Modify the value\n",
    "my_dict[\"age\"] = 20\n",
    "\n",
    "# Add a new key-value pair\n",
    "my_dict[\"email\"] = \"jack@floridapoly.edu\"\n",
    "print(my_dict)"
   ]
  },
  {
   "cell_type": "code",
   "execution_count": null,
   "id": "20fe0d20",
   "metadata": {},
   "outputs": [
    {
     "name": "stdout",
     "output_type": "stream",
     "text": [
      "not found\n"
     ]
    }
   ],
   "source": [
    "# print(my_dict[\"gpa\"]) generates an error due to the key not existing\n",
    "\n",
    "# get method\n",
    "print(my_dict.get(\"gpa\", \"not found\")) # returns \"not found\" if key doesn't exist\n"
   ]
  },
  {
   "cell_type": "code",
   "execution_count": 9,
   "id": "170e67d4",
   "metadata": {},
   "outputs": [
    {
     "name": "stdout",
     "output_type": "stream",
     "text": [
      "dict_keys(['name', 'age', 'city', 'email'])\n",
      "dict_values(['Jack', 20, 'Lakeland', 'jack@floridapoly.edu'])\n",
      "dict_items([('name', 'Jack'), ('age', 20), ('city', 'Lakeland'), ('email', 'jack@floridapoly.edu')])\n"
     ]
    }
   ],
   "source": [
    "# keys - all of the keys\n",
    "print(my_dict.keys())\n",
    "\n",
    "# values - returns all of the values\n",
    "print(my_dict.values())\n",
    "\n",
    "# items - returns key-value pairs\n",
    "print(my_dict.items())\n"
   ]
  },
  {
   "cell_type": "code",
   "execution_count": 11,
   "id": "bd142460",
   "metadata": {},
   "outputs": [
    {
     "name": "stdout",
     "output_type": "stream",
     "text": [
      "name Anna\n",
      "age 19\n",
      "city Orlando\n",
      "name -> Jack\n",
      "age -> 20\n",
      "city -> Lakeland\n",
      "email -> jack@floridapoly.edu\n"
     ]
    }
   ],
   "source": [
    "# iteration over dictionaries\n",
    "info = dict(name = \"Anna\", age = 19, city = \"Orlando\")\n",
    "\n",
    "for key in info:\n",
    "    print(key, info[key])\n",
    "\n",
    "for key, value in my_dict.items():\n",
    "    print(f\"{key} -> {value}\")"
   ]
  },
  {
   "cell_type": "code",
   "execution_count": 13,
   "id": "36ab290f",
   "metadata": {},
   "outputs": [
    {
     "name": "stdout",
     "output_type": "stream",
     "text": [
      "{'apple': 3, 'banana': 1, 'orange': 2}\n"
     ]
    }
   ],
   "source": [
    "# Count the frequency of words\n",
    "msg = \"apple banana orange apple orange apple\"\n",
    "words = msg.split(\" \")\n",
    "\n",
    "# create a dictionary\n",
    "word_count = {}\n",
    "for word in words:\n",
    "    word_count[word] = word_count.get(word, 0) + 1\n",
    "\n",
    "print(word_count)\n"
   ]
  },
  {
   "cell_type": "code",
   "execution_count": 16,
   "id": "3af53bce",
   "metadata": {},
   "outputs": [
    {
     "name": "stdout",
     "output_type": "stream",
     "text": [
      "{'green', 'red', 'blue'}\n",
      "{1, 2, 3, 4}\n",
      "set()\n"
     ]
    }
   ],
   "source": [
    "# Creating a set\n",
    "# Sets are a collection of unique elements\n",
    "\n",
    "colors = {\"red\", \"blue\", \"green\"}\n",
    "numbers = set([1,2,3,4,3])\n",
    "\n",
    "empty_set = set()\n",
    "\n",
    "print(colors)\n",
    "print(numbers)\n",
    "print(empty_set)"
   ]
  },
  {
   "cell_type": "code",
   "execution_count": 21,
   "id": "97bee634",
   "metadata": {},
   "outputs": [
    {
     "name": "stdout",
     "output_type": "stream",
     "text": [
      "{1, 2, 3, 4, 5, 6, 7}\n",
      "{3, 4, 5}\n",
      "{1, 2}\n",
      "{6, 7}\n",
      "{1, 2, 6, 7}\n"
     ]
    }
   ],
   "source": [
    "set1 = {1, 2, 3, 4, 5}\n",
    "set2 = {3, 4, 5, 6, 7}\n",
    "\n",
    "# Combine elements from 2 sets (union)\n",
    "union_set = set1 | set2\n",
    "\n",
    "# Intersection of two sets\n",
    "intersection_set = set1 & set2\n",
    "\n",
    "# Difference of two sets\n",
    "difference_set1 = set1 - set2\n",
    "difference_set2 = set2 - set1\n",
    "difference_set3 = set2 ^ set1\n",
    "\n",
    "print(union_set)\n",
    "print(intersection_set)\n",
    "print(difference_set1)\n",
    "print(difference_set2)\n",
    "print(difference_set3)"
   ]
  },
  {
   "cell_type": "code",
   "execution_count": 23,
   "id": "2ee69c79",
   "metadata": {},
   "outputs": [
    {
     "name": "stdout",
     "output_type": "stream",
     "text": [
      "{'green', 'red', 'purple'}\n"
     ]
    }
   ],
   "source": [
    "# Adding and Removing items from a set\n",
    "colors = {\"red\", \"blue\", \"green\"}\n",
    "\n",
    "colors.add(\"purple\")\n",
    "colors.remove(\"blue\") # Generates an error if blue is already not in the set\n",
    "colors.discard(\"blue\") # No error if it isn't found\n",
    "\n",
    "print(colors)"
   ]
  }
 ],
 "metadata": {
  "kernelspec": {
   "display_name": "Python 3",
   "language": "python",
   "name": "python3"
  },
  "language_info": {
   "codemirror_mode": {
    "name": "ipython",
    "version": 3
   },
   "file_extension": ".py",
   "mimetype": "text/x-python",
   "name": "python",
   "nbconvert_exporter": "python",
   "pygments_lexer": "ipython3",
   "version": "3.12.1"
  }
 },
 "nbformat": 4,
 "nbformat_minor": 5
}
