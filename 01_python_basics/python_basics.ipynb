{
 "cells": [
  {
   "cell_type": "code",
   "execution_count": null,
   "id": "5463b50e",
   "metadata": {},
   "outputs": [
    {
     "name": "stdout",
     "output_type": "stream",
     "text": [
      "Comments are not executed\n"
     ]
    }
   ],
   "source": [
    "# This is single line comment\n",
    "\n",
    "\"\"\"\n",
    "08/20/2025\n",
    "Introduction to Python\n",
    "\"\"\"\n",
    "\n",
    "print(\"Comments are not executed\")"
   ]
  },
  {
   "cell_type": "code",
   "execution_count": null,
   "id": "1186d72f",
   "metadata": {},
   "outputs": [],
   "source": [
    "# Variables\n",
    "\n",
    "name = \"Jack\"\n",
    "age = 25\n",
    "height = 5.6\n",
    "print(name, age, height)"
   ]
  },
  {
   "cell_type": "code",
   "execution_count": null,
   "id": "148c5f80",
   "metadata": {},
   "outputs": [],
   "source": [
    "# Declaring Variables with Type Annotations\n",
    "name: str = \"Igor\"\n",
    "age: int = 30\n",
    "height: float = 6.0\n",
    "\n",
    "print(f\"Name: {name}, Age: {age}, Height: {height}\")"
   ]
  },
  {
   "cell_type": "code",
   "execution_count": null,
   "id": "ae20ea68",
   "metadata": {},
   "outputs": [],
   "source": [
    "# Arithmetic\n",
    "a = 5\n",
    "b = 9\n",
    "print(b / a)\n",
    "print(b // a)\n",
    "print(b**a)\n",
    "print(b % a)"
   ]
  }
 ],
 "metadata": {
  "kernelspec": {
   "display_name": "Python 3",
   "language": "python",
   "name": "python3"
  },
  "language_info": {
   "codemirror_mode": {
    "name": "ipython",
    "version": 3
   },
   "file_extension": ".py",
   "mimetype": "text/x-python",
   "name": "python",
   "nbconvert_exporter": "python",
   "pygments_lexer": "ipython3",
   "version": "3.12.1"
  }
 },
 "nbformat": 4,
 "nbformat_minor": 5
}
