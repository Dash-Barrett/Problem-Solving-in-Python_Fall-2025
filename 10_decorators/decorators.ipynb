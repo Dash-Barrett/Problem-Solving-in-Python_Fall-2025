{
 "cells": [
  {
   "cell_type": "code",
   "execution_count": 3,
   "id": "131a8ea0",
   "metadata": {},
   "outputs": [
    {
     "name": "stdout",
     "output_type": "stream",
     "text": [
      "f took  0.400282621383667\n"
     ]
    }
   ],
   "source": [
    "# Define a function and measrue its execution time\n",
    "\n",
    "#Specific import\n",
    "from time import sleep, time\n",
    "\n",
    "def f():\n",
    "    sleep(0.4)\n",
    "\n",
    "# Get the current time\n",
    "t = time()\n",
    "f()\n",
    "print(\"f took \", time() - t)"
   ]
  },
  {
   "cell_type": "code",
   "execution_count": 4,
   "id": "473fd45f",
   "metadata": {},
   "outputs": [
    {
     "name": "stdout",
     "output_type": "stream",
     "text": [
      "g took  0.20064759254455566\n"
     ]
    }
   ],
   "source": [
    "# Create another function\n",
    "def g():\n",
    "    sleep(0.2)\n",
    "\n",
    "# Get the current time\n",
    "t = time()\n",
    "g()\n",
    "print(\"g took \", time() - t)"
   ]
  },
  {
   "cell_type": "code",
   "execution_count": 5,
   "id": "3ec3180f",
   "metadata": {},
   "outputs": [
    {
     "name": "stdout",
     "output_type": "stream",
     "text": [
      "f took: 0.4000840187072754\n",
      "g took: 0.20004487037658691\n"
     ]
    }
   ],
   "source": [
    "# Lets optimize the measurement\n",
    "def measure(func):\n",
    "    t = time() # get current time\n",
    "    func() # call the received function\n",
    "    print(func.__name__, \"took:\", time() - t)\n",
    "\n",
    "measure(f)\n",
    "measure(g)"
   ]
  },
  {
   "cell_type": "code",
   "execution_count": 6,
   "id": "88d0123e",
   "metadata": {},
   "outputs": [
    {
     "name": "stdout",
     "output_type": "stream",
     "text": [
      "f2 took: 0.1000819206237793\n",
      "f2 took: 0.5001180171966553\n",
      "f2 took: 0.7001163959503174\n"
     ]
    }
   ],
   "source": [
    "def f2(sleep_time = 0.1):\n",
    "    sleep(sleep_time)\n",
    "\n",
    "def measure(func, *args, **kwargs):\n",
    "    t = time() # get current time\n",
    "    func(*args, **kwargs) # call the received function\n",
    "    print(func.__name__, \"took:\", time() - t)\n",
    "\n",
    "measure(f2)\n",
    "measure(f2, 0.5)\n",
    "measure(f2, sleep_time = 0.7)"
   ]
  },
  {
   "cell_type": "code",
   "execution_count": 10,
   "id": "f19c2893",
   "metadata": {},
   "outputs": [
    {
     "name": "stdout",
     "output_type": "stream",
     "text": [
      "f2 took: 1.0000865459442139\n"
     ]
    }
   ],
   "source": [
    "# What if I want to build in a measurement into a function\n",
    "\n",
    "def measure(func, *args, **kwargs): # a decorator\n",
    "    def wrapper(*args, **kwargs):\n",
    "        t = time() # get current time\n",
    "        func(*args, **kwargs) # call the received function\n",
    "        print(func.__name__, \"took:\", time() - t)\n",
    "    return wrapper\n",
    "    \n",
    "@measure\n",
    "def f2(sleep_time = 0.1):\n",
    "    sleep(sleep_time)\n",
    "\n",
    "f2(1)"
   ]
  }
 ],
 "metadata": {
  "kernelspec": {
   "display_name": "Python 3",
   "language": "python",
   "name": "python3"
  },
  "language_info": {
   "codemirror_mode": {
    "name": "ipython",
    "version": 3
   },
   "file_extension": ".py",
   "mimetype": "text/x-python",
   "name": "python",
   "nbconvert_exporter": "python",
   "pygments_lexer": "ipython3",
   "version": "3.12.1"
  }
 },
 "nbformat": 4,
 "nbformat_minor": 5
}
