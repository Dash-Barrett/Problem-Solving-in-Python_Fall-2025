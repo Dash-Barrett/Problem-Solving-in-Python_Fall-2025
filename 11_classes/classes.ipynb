{
 "cells": [
  {
   "cell_type": "code",
   "execution_count": null,
   "id": "70759b8f",
   "metadata": {},
   "outputs": [
    {
     "name": "stdout",
     "output_type": "stream",
     "text": [
      "Woof! Woof!\n"
     ]
    }
   ],
   "source": [
    "# Dog Class\n",
    "\n",
    "# self refers to an instance of the class\n",
    "class Dog:\n",
    "    def bark(self): # instance method\n",
    "        return \"Woof! Woof!\"\n",
    "\n",
    "# Create an instance of Dog\n",
    "my_dog = Dog()\n",
    "# Call bark()\n",
    "print(my_dog.bark())"
   ]
  },
  {
   "cell_type": "code",
   "execution_count": 5,
   "id": "b7e2e085",
   "metadata": {},
   "outputs": [
    {
     "name": "stdout",
     "output_type": "stream",
     "text": [
      "64\n"
     ]
    }
   ],
   "source": [
    "class Square:\n",
    "    side = 8\n",
    "    # Create an instance method area\n",
    "    def area(self):\n",
    "        return self.side**2\n",
    "\n",
    "#Create an instance of Square\n",
    "s1 = Square()\n",
    "\n",
    "#Print the area\n",
    "print(s1.area())"
   ]
  },
  {
   "cell_type": "code",
   "execution_count": 6,
   "id": "82103829",
   "metadata": {},
   "outputs": [
    {
     "name": "stdout",
     "output_type": "stream",
     "text": [
      "Leopold\n"
     ]
    }
   ],
   "source": [
    "# __init__ method (constructor)\n",
    "# use it to initialzie the properties of a new object\n",
    "\n",
    "class Cat:\n",
    "    def __init__(self, name):\n",
    "        self.name = name\n",
    "\n",
    "leopold = Cat(\"Leopold\")\n",
    "print(leopold.name)\n"
   ]
  },
  {
   "cell_type": "code",
   "execution_count": 2,
   "id": "cbb94bc7",
   "metadata": {},
   "outputs": [
    {
     "name": "stdout",
     "output_type": "stream",
     "text": [
      "wowie is driving!\n"
     ]
    }
   ],
   "source": [
    "#Create Car class with an atrribute called model (set in __init__, an instance method drive that reutrns a sstring like [model is driving!\"\"])\n",
    "\n",
    "class Car:\n",
    "    def __init__(self, model):\n",
    "        self.model = model\n",
    "    def drive(self):\n",
    "        return f\"{self.model} is driving!\"\n",
    "\n",
    "object = Car(\"wowie\")\n",
    "print(object.drive())"
   ]
  }
 ],
 "metadata": {
  "kernelspec": {
   "display_name": "Python 3",
   "language": "python",
   "name": "python3"
  },
  "language_info": {
   "codemirror_mode": {
    "name": "ipython",
    "version": 3
   },
   "file_extension": ".py",
   "mimetype": "text/x-python",
   "name": "python",
   "nbconvert_exporter": "python",
   "pygments_lexer": "ipython3",
   "version": "3.12.1"
  }
 },
 "nbformat": 4,
 "nbformat_minor": 5
}
